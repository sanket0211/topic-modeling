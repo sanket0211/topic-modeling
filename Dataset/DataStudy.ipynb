{
 "cells": [
  {
   "cell_type": "code",
   "execution_count": 3,
   "id": "84e905bf",
   "metadata": {},
   "outputs": [],
   "source": [
    "import sys\n",
    "import numpy as np\n",
    "import matplotlib.pyplot as plt\n",
    "sys.path.append('../') \n",
    "from utils import Utils\n",
    "utils_obj = Utils()"
   ]
  },
  {
   "cell_type": "code",
   "execution_count": 4,
   "id": "d8d1dee4",
   "metadata": {},
   "outputs": [
    {
     "name": "stdout",
     "output_type": "stream",
     "text": [
      "                                           documents\n",
      "0  Tires where delivered to the garage of my choi...\n",
      "1  Easy Tyre Selection Process, Competitive Prici...\n",
      "2         Very easy to use and good value for money.\n",
      "No. of Documents 10132\n",
      "Average document length 25.463975523095144\n",
      "Total no. of unique tokens 9832\n"
     ]
    }
   ],
   "source": [
    "df = utils_obj.load_data(\"sentisum-assessment-dataset.csv\")\n",
    "documents=df['documents'].tolist()\n",
    "no_of_documents, avg_doc_length, no_of_unique_tokens = utils_obj.data_stats(documents)\n",
    "print(df.head(3))\n",
    "print(f\"No. of Documents {no_of_documents}\")\n",
    "print(f\"Average document length {avg_doc_length}\")\n",
    "print(f\"Total no. of unique tokens {no_of_unique_tokens}\")"
   ]
  },
  {
   "cell_type": "code",
   "execution_count": 5,
   "id": "34f0b5b4",
   "metadata": {},
   "outputs": [
    {
     "data": {
      "text/plain": [
       "<BarContainer object of 232 artists>"
      ]
     },
     "execution_count": 5,
     "metadata": {},
     "output_type": "execute_result"
    },
    {
     "data": {
      "image/png": "[encoded data removed]",
      "text/plain": [
       "<Figure size 432x288 with 1 Axes>"
      ]
     },
     "metadata": {
      "needs_background": "light"
     },
     "output_type": "display_data"
    }
   ],
   "source": [
    "d = utils_obj.plot_histogram(documents)\n",
    "plt.bar(d.keys(), d.values(), 15, color='g')"
   ]
  },
  {
   "cell_type": "markdown",
   "id": "38cfbe5c",
   "metadata": {},
   "source": [
    "## Above Plot Description\n",
    "- Plot is drawn between frequency of occurrence of different document lengths. \n",
    "- We see that most of the documents have lengths between 10 to 150"
   ]
  },
  {
   "cell_type": "code",
   "execution_count": 6,
   "id": "2676568b",
   "metadata": {},
   "outputs": [
    {
     "name": "stdout",
     "output_type": "stream",
     "text": [
      "['tyre', 'service', 'price', 'good', 'easy', 'garage', 'great', 'fitting', 'time', 'use', 'excellent', 'fitted', 'local', 'day', 'fitter', 'quick', 'choice', 'used', 'car', 'efficient', 'order', 'value', 'get', 'website', 'recommend', 'customer', 'appointment', 'competitive', 'experience', 'friendly', 'process', 'first', 'best', 'always', 'problem', 'definitely', 'done', 'fit', 'simple', 'got', 'new', 'booking', 'online', 'convenient', 'delivered', 'really', 'well', 'helpful', 'went', 'booked', 'date', 'centre', 'work', 'job', 'ordered', 'using', 'issue', 'money', 'also', 'wheel', 'happy', 'ordering', 'way', 'staff', 'at', 'email', 'book', 'back', 'delivery', 'arrived', 'hassle', 'choose', 'recommended', 'go', 'fast', 'told', 'quality', 'company', 'professional', 'find', 'highly', 'free', 'hour', 'site', 'cheaper', 'everything', 'buy', 'purchase', 'slot', 'said', 'range', 'never', 'available', 'took', 'later', 'even', 'brilliant', 'wanted', 'next', 'communication', 'found']\n"
     ]
    }
   ],
   "source": [
    "top_100_freq_words = utils_obj.get_top_100_freq_words(documents)\n",
    "print(top_100_freq_words)"
   ]
  },
  {
   "cell_type": "markdown",
   "id": "6be4a699",
   "metadata": {},
   "source": [
    "- Looking at the top 100 most frequent words, we can get some idea about the dataset\n",
    "- single words do not have context and hence we try to look at top 50 bigrams/trigrams"
   ]
  },
  {
   "cell_type": "code",
   "execution_count": 7,
   "id": "bae04fab",
   "metadata": {},
   "outputs": [
    {
     "name": "stdout",
     "output_type": "stream",
     "text": [
      "[('good', 'price'), ('great', 'service'), ('easy', 'use'), ('excellent', 'service'), ('great', 'price'), ('tyre', 'fitted'), ('good', 'service'), ('local', 'garage'), ('customer', 'service'), ('competitive', 'price'), ('new', 'tyre'), ('price', 'good'), ('good', 'value'), ('best', 'price'), ('easy', 'order'), ('definitely', 'use'), ('service', 'good'), ('quick', 'easy'), ('fitting', 'centre'), ('service', 'great'), ('choice', 'tyre'), ('value', 'money'), ('tyre', 'fitting'), ('efficient', 'service'), ('price', 'easy'), ('price', 'tyre'), ('tyre', 'good'), ('tyre', 'delivered'), ('tyre', 'fitter'), ('use', 'website'), ('service', 'easy'), ('fitting', 'service'), ('good', 'choice'), ('hassle', 'free'), ('great', 'value'), ('excellent', 'price'), ('price', 'great'), ('get', 'tyre'), ('fit', 'tyre'), ('price', 'service'), ('highly', 'recommend'), ('time', 'used'), ('start', 'finish'), ('first', 'class'), ('first', 'time'), ('easy', 'book'), ('fitted', 'tyre'), ('fitting', 'garage'), ('garage', 'fitted'), ('reasonable', 'price'), ('quality', 'tyre')]\n"
     ]
    }
   ],
   "source": [
    "top_50_freq_bigrams = utils_obj.get_bigram_frequency(documents)\n",
    "print(top_50_freq_bigrams)"
   ]
  },
  {
   "cell_type": "code",
   "execution_count": 8,
   "id": "59359e47",
   "metadata": {},
   "outputs": [
    {
     "name": "stdout",
     "output_type": "stream",
     "text": [
      "[('easy', 'use', 'website'), ('service', 'good', 'price'), ('service', 'great', 'price'), ('tyre', 'good', 'price'), ('good', 'price', 'good'), ('service', 'easy', 'use'), ('good', 'price', 'easy'), ('price', 'great', 'service'), ('great', 'service', 'great'), ('good', 'price', 'tyre'), ('website', 'easy', 'use'), ('great', 'price', 'great'), ('price', 'excellent', 'service'), ('price', 'good', 'service'), ('good', 'choice', 'tyre'), ('first', 'class', 'service'), ('good', 'value', 'money'), ('easy', 'use', 'great'), ('price', 'easy', 'use'), ('great', 'service', 'easy'), ('great', 'price', 'easy'), ('good', 'service', 'good'), ('tyre', 'great', 'price'), ('service', 'competitive', 'price'), ('get', 'tyre', 'fitted'), ('tyre', 'competitive', 'price'), ('good', 'selection', 'tyre'), ('way', 'buy', 'tyre'), ('garage', 'fitted', 'tyre'), ('fitted', 'local', 'garage'), ('new', 'tyre', 'fitted'), ('great', 'service', 'good'), ('easy', 'use', 'good'), ('second', 'time', 'used'), ('excellent', 'customer', 'service'), ('great', 'customer', 'service'), ('great', 'choice', 'tyre'), ('service', 'start', 'finish'), ('good', 'price', 'excellent'), ('great', 'value', 'money'), ('first', 'time', 'used'), ('excellent', 'service', 'easy'), ('tyre', 'fitted', 'local'), ('use', 'website', 'good'), ('good', 'price', 'service'), ('local', 'garage', 'fit'), ('excellent', 'service', 'good'), ('first', 'time', 'using'), ('go', 'anywhere', 'else'), ('excellent', 'price', 'service'), ('good', 'quality', 'tyre')]\n"
     ]
    }
   ],
   "source": [
    "top_50_freq_trigrams = utils_obj.get_trigram_frequency(documents)\n",
    "print(top_50_freq_trigrams)"
   ]
  },
  {
   "cell_type": "markdown",
   "id": "9a11dfdc",
   "metadata": {},
   "source": [
    "##### Insights from bigram trigram analysis\n",
    "- We know that unigrams don't tell us much about context\n",
    "- bigrams/trigrams have some context with them. These are mainly some adj/adv combined with noun/verb which gives us more information. \n",
    "- Hence, involving bigrams/trigrams in our topic clusters make more sense."
   ]
  }
 ],
 "metadata": {
  "kernelspec": {
   "display_name": "Python 3 (ipykernel)",
   "language": "python",
   "name": "python3"
  },
  "language_info": {
   "codemirror_mode": {
    "name": "ipython",
    "version": 3
   },
   "file_extension": ".py",
   "mimetype": "text/x-python",
   "name": "python",
   "nbconvert_exporter": "python",
   "pygments_lexer": "ipython3",
   "version": "3.8.10"
  }
 },
 "nbformat": 4,
 "nbformat_minor": 5
}
