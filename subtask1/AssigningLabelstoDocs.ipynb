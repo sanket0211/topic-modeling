{
 "cells": [
  {
   "cell_type": "code",
   "execution_count": 5,
   "id": "a8da152f",
   "metadata": {},
   "outputs": [],
   "source": [
    "import sys\n",
    "sys.path.append('../') \n",
    "from utils import Utils\n",
    "utils_obj = Utils()"
   ]
  },
  {
   "cell_type": "code",
   "execution_count": 6,
   "id": "7b995066",
   "metadata": {},
   "outputs": [],
   "source": [
    "df = utils_obj.load_data(\"../Dataset/sentisum-assessment-dataset.csv\")\n",
    "documents=df['documents'].tolist()\n",
    "processed_documents = utils_obj.preprocess_docs(documents)\n",
    "processed_documents_words = utils_obj.tokenize(processed_documents)"
   ]
  },
  {
   "cell_type": "code",
   "execution_count": 7,
   "id": "57afe2a8",
   "metadata": {},
   "outputs": [
    {
     "name": "stdout",
     "output_type": "stream",
     "text": [
      "{'8': 'value for money', '13': 'value for money', '9': 'garage service', '12': 'garage service', '5': 'ease of booking', '4': 'ease of booking', '14': 'mobile fitter', '6': 'location', '2': 'delivery punctuality', '7': 'delivery punctuality', '10': 'booking confusion', '3': 'wait time', '0': 'None', '1': 'None', '11': 'None'}\n"
     ]
    }
   ],
   "source": [
    "relevant_topic_index_dict={}\n",
    "f=open(\"../RelevantTopicsMap.csv\", \"r\")\n",
    "for l in f.readlines():\n",
    "    l=l[:-1]\n",
    "    l=l.split(',')\n",
    "    relevant_topic = l[0]\n",
    "    topic_indices = l[1:]\n",
    "    for ind in topic_indices:\n",
    "        relevant_topic_index_dict[ind]=relevant_topic\n",
    "print(relevant_topic_index_dict)"
   ]
  },
  {
   "cell_type": "code",
   "execution_count": null,
   "id": "deec8b18",
   "metadata": {},
   "outputs": [],
   "source": [
    "data_annotation=[]\n",
    "for text, doc in zip(processed_documents,documents):    \n",
    "    for topic in topics:\n",
    "        cnt=0\n",
    "        for word in topic[1]:\n",
    "            if word[0] in text:\n",
    "                cnt+=1\n",
    "        if cnt>3:    \n",
    "            data_annotation.append( (doc, topic[0], relevant_topic_index_dict[str(topic[0])]) )\n",
    "data_annotation=list(set(data_annotation))"
   ]
  },
  {
   "cell_type": "code",
   "execution_count": null,
   "id": "d4fbef08",
   "metadata": {},
   "outputs": [],
   "source": [
    "df_final = pd.DataFrame(data_annotation)\n",
    "df_final.to_csv(\"data-tagging-with-found-labels.tsv\", sep='\\t', header=[\"doc\", \"tag\", \"label\"], index=False)"
   ]
  }
 ],
 "metadata": {
  "kernelspec": {
   "display_name": "Python 3 (ipykernel)",
   "language": "python",
   "name": "python3"
  },
  "language_info": {
   "codemirror_mode": {
    "name": "ipython",
    "version": 3
   },
   "file_extension": ".py",
   "mimetype": "text/x-python",
   "name": "python",
   "nbconvert_exporter": "python",
   "pygments_lexer": "ipython3",
   "version": "3.8.10"
  }
 },
 "nbformat": 4,
 "nbformat_minor": 5
}
